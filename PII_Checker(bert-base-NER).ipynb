{
 "cells": [
  {
   "cell_type": "markdown",
   "metadata": {
    "id": "ENafDqzYQ4z1",
    "tags": []
   },
   "source": [
    "# Dependencies"
   ]
  },
  {
   "cell_type": "code",
   "execution_count": 2,
   "metadata": {
    "colab": {
     "base_uri": "https://localhost:8080/"
    },
    "id": "Z2AFSdSJvAk0",
    "outputId": "9d333d7d-a56a-422f-c209-971dafe5e477"
   },
   "outputs": [
    {
     "name": "stdout",
     "output_type": "stream",
     "text": [
      "Collecting package metadata (current_repodata.json): ...working... WARNING conda.models.version:get_matcher(538): Using .* with relational operator is superfluous and deprecated and will be removed in a future version of conda. Your spec was 1.7.1.*, but conda is ignoring the .* and treating it as 1.7.1\n",
      "done\n",
      "Solving environment: ...working... done\n",
      "\n",
      "# All requested packages already installed.\n",
      "\n"
     ]
    }
   ],
   "source": [
    "!conda install seqeval evaluate Dataset --quiet -y"
   ]
  },
  {
   "cell_type": "code",
   "execution_count": 3,
   "metadata": {
    "colab": {
     "base_uri": "https://localhost:8080/"
    },
    "id": "aZPi97_Kvbfw",
    "outputId": "8b763a19-a8f8-46b2-cf69-d2b5151b28a7"
   },
   "outputs": [
    {
     "name": "stdout",
     "output_type": "stream",
     "text": [
      "usage: conda [-h] [-V] command ...\n",
      "conda: error: unrecognized arguments: -U\n"
     ]
    }
   ],
   "source": [
    "!conda install accelerate -U --quiet"
   ]
  },
  {
   "cell_type": "code",
   "execution_count": 4,
   "metadata": {},
   "outputs": [
    {
     "name": "stdout",
     "output_type": "stream",
     "text": [
      "Collecting package metadata (current_repodata.json): - WARNING conda.models.version:get_matcher(538): Using .* with relational operator is superfluous and deprecated and will be removed in a future version of conda. Your spec was 1.7.1.*, but conda is ignoring the .* and treating it as 1.7.1\n",
      "done\n",
      "Solving environment: done\n",
      "\n",
      "\n",
      "==> WARNING: A newer version of conda exists. <==\n",
      "  current version: 4.13.0\n",
      "  latest version: 24.3.0\n",
      "\n",
      "Please update conda by running\n",
      "\n",
      "    $ conda update -n base -c defaults conda\n",
      "\n",
      "\n",
      "\n",
      "# All requested packages already installed.\n",
      "\n"
     ]
    }
   ],
   "source": [
    "!conda install -c pytorch pytorch\n"
   ]
  },
  {
   "cell_type": "code",
   "execution_count": 1,
   "metadata": {},
   "outputs": [
    {
     "name": "stdout",
     "output_type": "stream",
     "text": [
      "Collecting package metadata (current_repodata.json): \\ WARNING conda.models.version:get_matcher(538): Using .* with relational operator is superfluous and deprecated and will be removed in a future version of conda. Your spec was 1.7.1.*, but conda is ignoring the .* and treating it as 1.7.1\n",
      "done\n",
      "Solving environment: done\n",
      "\n",
      "\n",
      "==> WARNING: A newer version of conda exists. <==\n",
      "  current version: 4.13.0\n",
      "  latest version: 24.3.0\n",
      "\n",
      "Please update conda by running\n",
      "\n",
      "    $ conda update -n base -c defaults conda\n",
      "\n",
      "\n",
      "\n",
      "## Package Plan ##\n",
      "\n",
      "  environment location: /shared/centos7/anaconda3/2022.05\n",
      "\n",
      "  added / updated specs:\n",
      "    - conda\n",
      "\n",
      "\n",
      "The following packages will be downloaded:\n",
      "\n",
      "    package                    |            build\n",
      "    ---------------------------|-----------------\n",
      "    conda-pack-0.7.1           |   py39h06a4308_0          51 KB\n",
      "    pyjwt-2.4.0                |   py39h06a4308_0          34 KB\n",
      "    ------------------------------------------------------------\n",
      "                                           Total:          85 KB\n",
      "\n",
      "The following packages will be UPDATED:\n",
      "\n",
      "  conda-pack         pkgs/main/noarch::conda-pack-0.6.0-py~ --> pkgs/main/linux-64::conda-pack-0.7.1-py39h06a4308_0\n",
      "  pyjwt                                2.1.0-py39h06a4308_0 --> 2.4.0-py39h06a4308_0\n",
      "\n",
      "\n",
      "\n",
      "Downloading and Extracting Packages\n",
      "pyjwt-2.4.0          | 34 KB     | ##################################### | 100% \n",
      "conda-pack-0.7.1     | 51 KB     | ##################################### | 100% \n",
      "Preparing transaction: done\n",
      "Verifying transaction: failed\n",
      "\n",
      "EnvironmentNotWritableError: The current user does not have write permissions to the target environment.\n",
      "  environment location: /shared/centos7/anaconda3/2022.05\n",
      "  uid: 20125\n",
      "  gid: 100\n",
      "\n",
      "\n"
     ]
    }
   ],
   "source": [
    "!conda update -n base -c defaults conda -y"
   ]
  },
  {
   "cell_type": "code",
   "execution_count": 1,
   "metadata": {},
   "outputs": [],
   "source": [
    "import torch\n",
    "device = torch.device(\"cuda\" if torch.cuda.is_available() else \"cpu\")"
   ]
  },
  {
   "cell_type": "code",
   "execution_count": 2,
   "metadata": {
    "id": "XRy1hjIZvdZd"
   },
   "outputs": [
    {
     "name": "stderr",
     "output_type": "stream",
     "text": [
      "/home/gande.vi/.conda/envs/tensorflow/lib/python3.9/site-packages/tqdm/auto.py:21: TqdmWarning: IProgress not found. Please update jupyter and ipywidgets. See https://ipywidgets.readthedocs.io/en/stable/user_install.html\n",
      "  from .autonotebook import tqdm as notebook_tqdm\n",
      "2024-04-05 23:33:16.833107: I tensorflow/core/platform/cpu_feature_guard.cc:182] This TensorFlow binary is optimized to use available CPU instructions in performance-critical operations.\n",
      "To enable the following instructions: AVX2 FMA, in other operations, rebuild TensorFlow with the appropriate compiler flags.\n",
      "2024-04-05 23:33:20.525903: W tensorflow/compiler/tf2tensorrt/utils/py_utils.cc:38] TF-TRT Warning: Could not find TensorRT\n"
     ]
    }
   ],
   "source": [
    "import json\n",
    "import matplotlib.pyplot as plt\n",
    "from datasets import Dataset\n",
    "import argparse\n",
    "from itertools import chain\n",
    "from functools import partial\n",
    "import pandas as pd\n",
    "import torch\n",
    "from transformers import AutoTokenizer, AutoModelForTokenClassification, Trainer, TrainingArguments, DataCollatorForTokenClassification\n",
    "from transformers import AutoTokenizer, Trainer, TrainingArguments\n",
    "from transformers import AutoModelForTokenClassification, DataCollatorForTokenClassification\n",
    "import evaluate\n",
    "from datasets import Dataset, features\n",
    "import numpy as np"
   ]
  },
  {
   "cell_type": "markdown",
   "metadata": {
    "id": "rvqBvR70Q7R0",
    "tags": []
   },
   "source": [
    "# Data Loading"
   ]
  },
  {
   "cell_type": "markdown",
   "metadata": {
    "id": "z6cYFiftZC1I"
   },
   "source": [
    "```json\n",
    "# Define the data\n",
    "data = {\n",
    "    \"document\": [\"doc_1\", \"doc_2\"],\n",
    "    \"tokens\": [\n",
    "        [\"Jane\", \"Doe\", \"attended\", \"New\", \"York\", \"University\", \".\", \"Her\", \"email\", \"is\", \"janedoe@example.com\", \".\"],\n",
    "        [\"John\", \"Smith\", \"'s\", \"phone\", \"number\", \"is\", \"(555)\", \"123-4567\", \".\"]\n",
    "    ],\n",
    "    \"trailing_whitespace\": [\n",
    "        [True, True, True, True, True, False, True, True, True, True, False, False],\n",
    "        [True, True, True, True, True, True, False, False, False]\n",
    "    ],\n",
    "    \"labels\": [\n",
    "        [\"B-NAME_STUDENT\", \"I-NAME_STUDENT\", \"O\", \"B-SCHOOL\", \"I-SCHOOL\", \"I-SCHOOL\", \"O\", \"O\", \"O\", \"O\", \"B-EMAIL\", \"O\"],\n",
    "        [\"B-NAME_STUDENT\", \"I-NAME_STUDENT\", \"O\", \"O\", \"O\", \"O\", \"B-PHONE_NUM\", \"I-PHONE_NUM\", \"O\"]\n",
    "    ]\n",
    "}\n",
    "```"
   ]
  },
  {
   "cell_type": "code",
   "execution_count": 3,
   "metadata": {
    "id": "GnXX0hnKQ9Zd"
   },
   "outputs": [
    {
     "name": "stdout",
     "output_type": "stream",
     "text": [
      "Original datapoints: 6807\n",
      "External datapoints: 4434\n",
      "Moredata datapoints: 2000\n",
      "Combined: 9333\n"
     ]
    }
   ],
   "source": [
    "# Load the training data from the JSON file containing labeled data\n",
    "data = json.load(open(\"train.json\"))\n",
    "\n",
    "# Downsampling of negative examples to balance the dataset\n",
    "p = []  # List to store positive samples (containing relevant labels)\n",
    "n = []  # List to store negative samples (potentially misclassified entities)\n",
    "for d in data:\n",
    "    if any(np.array(d[\"labels\"]) != \"O\"):  # Check if any label is not \"O\" (indicating relevant label)\n",
    "        p.append(d)\n",
    "    else:\n",
    "        n.append(d)\n",
    "print(\"Original datapoints:\", len(data))\n",
    "\n",
    "# Load external dataset for additional data points\n",
    "external = json.load(open(\"external.json\"))\n",
    "print(\"External datapoints:\", len(external))\n",
    "\n",
    "# Load additional dataset for more data points\n",
    "moredata = json.load(open(\"moredata.json\"))\n",
    "print(\"Moredata datapoints:\", len(moredata))\n",
    "\n",
    "# Combine the datasets: moredata, external, positive samples (p), and downsampled negative samples (n)\n",
    "data = moredata + external + p + n[:len(n)//3]\n",
    "print(\"Combined:\", len(data))"
   ]
  },
  {
   "cell_type": "markdown",
   "metadata": {
    "tags": []
   },
   "source": [
    "# Label Extraction"
   ]
  },
  {
   "cell_type": "code",
   "execution_count": 4,
   "metadata": {
    "colab": {
     "base_uri": "https://localhost:8080/"
    },
    "id": "54nDzc_xSdVX",
    "outputId": "1dfbe5b1-cccc-44e9-aa4a-14acf8290cce"
   },
   "outputs": [
    {
     "name": "stdout",
     "output_type": "stream",
     "text": [
      "{'B-EMAIL': 0, 'B-ID_NUM': 1, 'B-NAME_STUDENT': 2, 'B-PHONE_NUM': 3, 'B-STREET_ADDRESS': 4, 'B-URL_PERSONAL': 5, 'B-USERNAME': 6, 'I-ID_NUM': 7, 'I-NAME_STUDENT': 8, 'I-PHONE_NUM': 9, 'I-STREET_ADDRESS': 10, 'I-URL_PERSONAL': 11, 'O': 12}\n",
      "{0: 'B-EMAIL', 1: 'B-ID_NUM', 2: 'B-NAME_STUDENT', 3: 'B-PHONE_NUM', 4: 'B-STREET_ADDRESS', 5: 'B-URL_PERSONAL', 6: 'B-USERNAME', 7: 'I-ID_NUM', 8: 'I-NAME_STUDENT', 9: 'I-PHONE_NUM', 10: 'I-STREET_ADDRESS', 11: 'I-URL_PERSONAL', 12: 'O'}\n"
     ]
    }
   ],
   "source": [
    "# Extract all unique labels from the combined dataset and sort them\n",
    "all_labels = sorted(list(set(chain(*[x[\"labels\"] for x in data]))))\n",
    "\n",
    "# Map each unique label to a unique integer identifier\n",
    "label2id = {l: i for i, l in enumerate(all_labels)}\n",
    "\n",
    "# Reverse mapping: map integer identifiers back to their corresponding labels\n",
    "id2label = {v: k for k, v in label2id.items()}\n",
    "print(label2id)\n",
    "print(id2label)"
   ]
  },
  {
   "cell_type": "markdown",
   "metadata": {
    "tags": []
   },
   "source": [
    "# Dataset Creation Using Hugging Face"
   ]
  },
  {
   "cell_type": "code",
   "execution_count": 5,
   "metadata": {
    "id": "P-52tkCYYtzj"
   },
   "outputs": [],
   "source": [
    "# Create a dataset from the provided data dictionary\n",
    "# Create a dataset from the provided data dictionary\n",
    "ds = Dataset.from_dict({\n",
    "    \"full_text\": [x[\"full_text\"] for x in data],\n",
    "    \"document\": [str(x[\"document\"]) for x in data],\n",
    "    \"tokens\": [x[\"tokens\"] for x in data],\n",
    "    \"trailing_whitespace\": [x[\"trailing_whitespace\"] for x in data],\n",
    "    \"labels\": [x[\"labels\"] for x in data],\n",
    "})"
   ]
  },
  {
   "cell_type": "markdown",
   "metadata": {
    "tags": []
   },
   "source": [
    "# Train Test Split"
   ]
  },
  {
   "cell_type": "code",
   "execution_count": 6,
   "metadata": {
    "id": "nNkaZZgAiOlk"
   },
   "outputs": [],
   "source": [
    "# Split the dataset into training and testing sets\n",
    "train_dataset, test_dataset = ds.train_test_split(test_size=0.01, seed=42).values()"
   ]
  },
  {
   "cell_type": "markdown",
   "metadata": {
    "tags": []
   },
   "source": [
    "# Model Config"
   ]
  },
  {
   "cell_type": "code",
   "execution_count": 7,
   "metadata": {},
   "outputs": [],
   "source": [
    "# !conda install -c powerai sentencepiece -y\n"
   ]
  },
  {
   "cell_type": "code",
   "execution_count": 8,
   "metadata": {
    "id": "VgHDDYffZ0M7"
   },
   "outputs": [],
   "source": [
    "# Define the path to the pre-trained DeBERTa-v3 model provided by Microsoft\n",
    "TRAINING_MODEL_PATH = \"dslim/bert-base-NER\" #\"dslim/bert-large-NER\"\n",
    "\n",
    "# Define the maximum length of input sequences for training\n",
    "TRAINING_MAX_LENGTH = 512\n",
    "\n",
    "# Define the directory where the trained model and associated outputs will be saved\n",
    "OUTPUT_DIR = \"bert-base-NER\""
   ]
  },
  {
   "cell_type": "code",
   "execution_count": 9,
   "metadata": {
    "colab": {
     "base_uri": "https://localhost:8080/"
    },
    "id": "eqZZixSkZwkT",
    "outputId": "af36eb95-90b2-45cf-8feb-27d58d9596c6"
   },
   "outputs": [],
   "source": [
    "tokenizer = AutoTokenizer.from_pretrained(TRAINING_MODEL_PATH)"
   ]
  },
  {
   "cell_type": "markdown",
   "metadata": {
    "id": "OolL3yVgcR-N",
    "tags": []
   },
   "source": [
    "# **Working of tokenize_train**\n",
    "\n"
   ]
  },
  {
   "cell_type": "markdown",
   "metadata": {
    "id": "YgdNOVXXe2cQ"
   },
   "source": [
    "*   Tokens: [\"Jane\", \"Doe\", \"is\", \"a\", \"student\", \".\"]\n",
    "*   Provided Labels: [\"B-PER\", \"I-PER\", \"O\", \"O\", \"O\", \"O\"]\n",
    "*   Trailing Whitespace: [True, True, True, True, False, False]\n",
    "\n",
    "  - This input suggests that \"Jane Doe\" is a person's name (hence the B-PER for \"Beginning-Person\" and I-PER for \"Inside-Person\"), and the rest of the tokens are outside any entity (O). The Trailing Whitespace indicates whether each token is followed by a space when reconstructing the full text."
   ]
  },
  {
   "cell_type": "markdown",
   "metadata": {
    "id": "iBwZBiAqcpAH"
   },
   "source": [
    "**1. Rebuild Text from Tokens :**\n",
    "- First, the function rebuilds the original text from the tokens and trailing whitespace information. For each token:\n",
    "\n",
    "- If trailing_whitespace is True, it adds a space after the token.\n",
    "It also extends the labels to match the reconstructed text, ensuring that spaces are labeled as O (outside any named entity).\n",
    "For our example, the reconstructed text would be \"Jane Doe is a student.\", and the corresponding labels would be adjusted accordingly (though in this simplified example, labels are assigned per token, not per character, so this step is more about understanding the logic)."
   ]
  },
  {
   "cell_type": "markdown",
   "metadata": {
    "id": "xWexDoN7dCfC"
   },
   "source": [
    "**2. Tokenization :**\n",
    "- Given our rebuilt text from step 1: \"Jane Doe is a student.\", let's assume the tokenizer performs the following actions (hypothetically, for the sake of example):\n",
    "\n",
    "- It splits \"Jane\" and \"Doe\" as separate tokens, which aligns with our original tokenization.\n",
    "- It keeps \"is\", \"a\", and \"student\" as separate tokens.\n",
    "- It recognizes \".\" as a punctuation token.\n",
    "- It adds special tokens [CLS] at the beginning and [SEP] at the end of the sequence for model input.\n",
    "- The tokenized output might look like this (simplified for explanation):\n",
    "```json\n",
    "{\n",
    "    \"input_ids\": [101, 1234, 5678, 234, 345, 6789, 102],  # Hypothetical token IDs for [CLS], Jane, Doe, is, a, student, [SEP]\n",
    "    \"attention_mask\": [1, 1, 1, 1, 1, 1, 1],  # Attention mask values\n",
    "    \"offset_mapping\": [(0, 0), (0, 4), (5, 8), (9, 11), (12, 13), (14, 21), (0, 0)]  # Simplified offset mappings\n",
    "}\n",
    "```\n",
    "- Here, offset_mapping indicates the span of characters in the original text each token corresponds to. [CLS] and [SEP] tokens have a mapping of (0, 0) as they don't correspond to any part of the original text."
   ]
  },
  {
   "cell_type": "markdown",
   "metadata": {
    "id": "d2rJMyvYdmmj"
   },
   "source": [
    "**3. Align Labels with Tokenized Input :**\n",
    "- Next, we align the original labels with the new tokenization. Using the offset_mapping, we determine which label each tokenized piece corresponds to:\n",
    "\n",
    "- For special tokens like [CLS] and [SEP], which don't map to any part of the original text, we assign them a label of O (which we map to its ID, let's say 0 for this example).\n",
    "- For each tokenized piece, we look at its offset_mapping to find the corresponding character span in the original text and assign it the label that covers the start of this span.\n",
    "- Given our original labels for \"Jane Doe is a student.\" were [\"B-PER\", \"I-PER\", \"O\", \"O\", \"O\", \"O\"]:\n",
    "\n",
    "- [CLS] and [SEP] would receive \"O\" (outside any entity).\n",
    "- \"Jane\" starts at character 0, matching \"B-PER\".\n",
    "- \"Doe\" starts at character 5, matching \"I-PER\".\n",
    "- The labels for \"is\", \"a\", \"student\", and \".\" would be \"O\", since they are outside any named entity.\n",
    "- Assuming label2id maps \"O\" to 0, \"B-PER\" to 1, and \"I-PER\" to 2, the aligned labels might look like this:\n",
    "\n",
    "``` json\n",
    "\"labels\": [0, 1, 2, 0, 0, 0, 0]  # Aligned labels for [CLS], Jane, Doe, is, a, student, [SEP]\n",
    "```\n",
    "\n",
    "- Combining the tokenized inputs and aligned labels, the output for our example step 3 would be:\n",
    "\n",
    "```json\n",
    "{\n",
    "    \"input_ids\": [101, 1234, 5678, 234, 345, 6789, 102],\n",
    "    \"attention_mask\": [1, 1, 1, 1, 1, 1, 1],\n",
    "    \"offset_mapping\": [(0, 0), (0, 4), (5, 8), (9, 11), (12, 13), (14, 21), (0, 0)],\n",
    "    \"labels\": [0, 1, 2, 0, 0, 0, 0],  # Aligned labels with ID mappings\n",
    "    \"length\": 7  # Length of the tokenized sequence\n",
    "}\n",
    "```"
   ]
  },
  {
   "cell_type": "markdown",
   "metadata": {
    "id": "WaB1BU2SfHbR",
    "tags": []
   },
   "source": [
    "# Train Tokenizer"
   ]
  },
  {
   "cell_type": "code",
   "execution_count": 10,
   "metadata": {
    "id": "dKDAoc6sX9bR"
   },
   "outputs": [],
   "source": [
    "def tokenize_train(example, tokenizer, label2id, max_length):\n",
    "\n",
    "    # Rebuild text from tokens\n",
    "    text = []\n",
    "    labels = []\n",
    "\n",
    "    for t, l, ws in zip(\n",
    "        example[\"tokens\"], example[\"labels\"], example[\"trailing_whitespace\"]\n",
    "    ):\n",
    "        text.append(t)\n",
    "        labels.extend([l] * len(t))\n",
    "\n",
    "        if ws:\n",
    "            text.append(\" \")\n",
    "            labels.append(\"O\")\n",
    "\n",
    "    # Actual tokenization\n",
    "    tokenized = tokenizer(\"\".join(text), return_offsets_mapping=True, max_length=max_length, padding=\"max_length\",truncation=True)\n",
    "\n",
    "    labels = np.array(labels)\n",
    "\n",
    "    text = \"\".join(text)\n",
    "    token_labels = []\n",
    "\n",
    "    for start_idx, end_idx in tokenized.offset_mapping:\n",
    "        # CLS token\n",
    "        if start_idx == 0 and end_idx == 0:\n",
    "            token_labels.append(label2id[\"O\"])\n",
    "            continue\n",
    "\n",
    "        # Case when token starts with whitespace\n",
    "        if text[start_idx].isspace():\n",
    "            start_idx += 1\n",
    "\n",
    "        token_labels.append(label2id[labels[start_idx]])\n",
    "\n",
    "    length = len(tokenized.input_ids)\n",
    "\n",
    "    return {**tokenized, \"labels\": token_labels, \"length\": length}"
   ]
  },
  {
   "cell_type": "markdown",
   "metadata": {
    "tags": []
   },
   "source": [
    "# Train Test Mapping"
   ]
  },
  {
   "cell_type": "code",
   "execution_count": 11,
   "metadata": {
    "colab": {
     "base_uri": "https://localhost:8080/",
     "height": 193,
     "referenced_widgets": [
      "2b7f1a46c06f49d4831d8b5b393f7d18",
      "551353e468e14627a898b177f1c89885",
      "2be436ce8af8419190edf91105229cd4",
      "8cecc5e68aa448eb9a562dd7825d0be1",
      "8cdaeea14fc749afbec902aa8a3686f8",
      "ffff59409b664644a3611d7146479d0d",
      "a811af887491451aa74f8ec136e2a2c2",
      "9daf5722e9aa4cf4a71d1d688ed535a5",
      "16b64ee9434247a4b850553a24a9c88d",
      "35ed0a4f066745199a76dc087a314e93",
      "248a3000d69049e29bc532252ed6bbf9",
      "c68dfd81f6f143818b68ebaa76f13720",
      "27f842dc52214321af8cfd0d10ae21c6",
      "ff90a02cb18946b598ae4f26a4365c02",
      "04c019927b78499497006a2f8b5426d7",
      "c24d552b6b7e454a98ade864dfbe7097",
      "272915da244640afb123cc454c7a8ab1",
      "c1fcef3e5ad4432c8d7f3ba55effce0f",
      "a77a878f3854408c976992bfef7b66ca",
      "cfe12ae140dc4177b6e5b3ed3f941e3c",
      "8f91266886a54ea68d4220d620fe539c",
      "60f4686a0a0f47d9b58158b74d949a17"
     ]
    },
    "id": "FX5gctI6esC_",
    "outputId": "29e5d08f-26e0-4f28-9bdc-ec414cc6bb8b"
   },
   "outputs": [
    {
     "name": "stderr",
     "output_type": "stream",
     "text": [
      "Map (num_proc=3): 100%|██████████| 9239/9239 [00:32<00:00, 288.15 examples/s]\n",
      "Map (num_proc=3): 100%|██████████| 94/94 [00:01<00:00, 50.59 examples/s]\n"
     ]
    }
   ],
   "source": [
    "train_mapped = train_dataset.map(tokenize_train, fn_kwargs={\"tokenizer\": tokenizer, \"label2id\": label2id, \"max_length\": TRAINING_MAX_LENGTH}, num_proc=3)\n",
    "test_mapped = test_dataset.map(tokenize_train, fn_kwargs={\"tokenizer\": tokenizer, \"label2id\": label2id, \"max_length\": TRAINING_MAX_LENGTH}, num_proc=3)"
   ]
  },
  {
   "cell_type": "markdown",
   "metadata": {
    "tags": []
   },
   "source": [
    "# Model Building"
   ]
  },
  {
   "cell_type": "code",
   "execution_count": 12,
   "metadata": {
    "colab": {
     "base_uri": "https://localhost:8080/"
    },
    "id": "Wbpx7HPXfUj4",
    "outputId": "55d5b1e2-6c21-4a9d-e275-31f2fcc89f05"
   },
   "outputs": [
    {
     "name": "stderr",
     "output_type": "stream",
     "text": [
      "Some weights of the model checkpoint at dslim/bert-base-NER were not used when initializing BertForTokenClassification: ['bert.pooler.dense.bias', 'bert.pooler.dense.weight']\n",
      "- This IS expected if you are initializing BertForTokenClassification from the checkpoint of a model trained on another task or with another architecture (e.g. initializing a BertForSequenceClassification model from a BertForPreTraining model).\n",
      "- This IS NOT expected if you are initializing BertForTokenClassification from the checkpoint of a model that you expect to be exactly identical (initializing a BertForSequenceClassification model from a BertForSequenceClassification model).\n",
      "Some weights of BertForTokenClassification were not initialized from the model checkpoint at dslim/bert-base-NER and are newly initialized because the shapes did not match:\n",
      "- classifier.bias: found shape torch.Size([9]) in the checkpoint and torch.Size([13]) in the model instantiated\n",
      "- classifier.weight: found shape torch.Size([9, 768]) in the checkpoint and torch.Size([13, 768]) in the model instantiated\n",
      "You should probably TRAIN this model on a down-stream task to be able to use it for predictions and inference.\n"
     ]
    },
    {
     "data": {
      "text/plain": [
       "BertForTokenClassification(\n",
       "  (bert): BertModel(\n",
       "    (embeddings): BertEmbeddings(\n",
       "      (word_embeddings): Embedding(28996, 768, padding_idx=0)\n",
       "      (position_embeddings): Embedding(512, 768)\n",
       "      (token_type_embeddings): Embedding(2, 768)\n",
       "      (LayerNorm): LayerNorm((768,), eps=1e-12, elementwise_affine=True)\n",
       "      (dropout): Dropout(p=0.1, inplace=False)\n",
       "    )\n",
       "    (encoder): BertEncoder(\n",
       "      (layer): ModuleList(\n",
       "        (0-11): 12 x BertLayer(\n",
       "          (attention): BertAttention(\n",
       "            (self): BertSelfAttention(\n",
       "              (query): Linear(in_features=768, out_features=768, bias=True)\n",
       "              (key): Linear(in_features=768, out_features=768, bias=True)\n",
       "              (value): Linear(in_features=768, out_features=768, bias=True)\n",
       "              (dropout): Dropout(p=0.1, inplace=False)\n",
       "            )\n",
       "            (output): BertSelfOutput(\n",
       "              (dense): Linear(in_features=768, out_features=768, bias=True)\n",
       "              (LayerNorm): LayerNorm((768,), eps=1e-12, elementwise_affine=True)\n",
       "              (dropout): Dropout(p=0.1, inplace=False)\n",
       "            )\n",
       "          )\n",
       "          (intermediate): BertIntermediate(\n",
       "            (dense): Linear(in_features=768, out_features=3072, bias=True)\n",
       "            (intermediate_act_fn): GELUActivation()\n",
       "          )\n",
       "          (output): BertOutput(\n",
       "            (dense): Linear(in_features=3072, out_features=768, bias=True)\n",
       "            (LayerNorm): LayerNorm((768,), eps=1e-12, elementwise_affine=True)\n",
       "            (dropout): Dropout(p=0.1, inplace=False)\n",
       "          )\n",
       "        )\n",
       "      )\n",
       "    )\n",
       "  )\n",
       "  (dropout): Dropout(p=0.1, inplace=False)\n",
       "  (classifier): Linear(in_features=768, out_features=13, bias=True)\n",
       ")"
      ]
     },
     "execution_count": 12,
     "metadata": {},
     "output_type": "execute_result"
    }
   ],
   "source": [
    "# Load the pre-trained token classification model with the specified parameters\n",
    "model = AutoModelForTokenClassification.from_pretrained(\n",
    "    TRAINING_MODEL_PATH,\n",
    "    num_labels=len(all_labels),  # Number of labels for token classification\n",
    "    id2label=id2label,  # Mapping from integer labels to their corresponding labels\n",
    "    label2id=label2id,  # Mapping from labels to their corresponding integer identifiers\n",
    "    ignore_mismatched_sizes=True  # Ignore mismatched sizes during training\n",
    ")\n",
    "model.to(device)"
   ]
  },
  {
   "cell_type": "markdown",
   "metadata": {
    "tags": []
   },
   "source": [
    "## Data Collation"
   ]
  },
  {
   "cell_type": "code",
   "execution_count": 13,
   "metadata": {
    "id": "096J1v3bfXS2"
   },
   "outputs": [],
   "source": [
    "# Initialize the data collator for token classification\n",
    "collator = DataCollatorForTokenClassification(tokenizer, pad_to_multiple_of=16)"
   ]
  },
  {
   "cell_type": "markdown",
   "metadata": {
    "tags": []
   },
   "source": [
    "## Compute Metrics Declartion"
   ]
  },
  {
   "cell_type": "code",
   "execution_count": 14,
   "metadata": {
    "id": "bHpNqkCwjAYu"
   },
   "outputs": [],
   "source": [
    "from seqeval.metrics import recall_score, precision_score\n",
    "from seqeval.metrics import classification_report\n",
    "from seqeval.metrics import f1_score\n",
    "\n",
    "def compute_metrics(p, all_labels):\n",
    "    predictions, labels = p\n",
    "    predictions = np.argmax(predictions, axis=2)\n",
    "\n",
    "    # Remove ignored index (special tokens)\n",
    "    true_predictions = [\n",
    "        [all_labels[p] for (p, l) in zip(prediction, label) if l != -100]\n",
    "        for prediction, label in zip(predictions, labels)\n",
    "    ]\n",
    "    true_labels = [\n",
    "        [all_labels[l] for (p, l) in zip(prediction, label) if l != -100]\n",
    "        for prediction, label in zip(predictions, labels)\n",
    "    ]\n",
    "\n",
    "    # Compute recall, precision, and f1-score\n",
    "    recall = recall_score(true_labels, true_predictions)\n",
    "    precision = precision_score(true_labels, true_predictions)\n",
    "    f1 = f1_score(true_labels, true_predictions)\n",
    "\n",
    "    # Calculate F1-score with beta = 5\n",
    "    beta = 5\n",
    "    f1_score_beta = (1 + beta**2) * recall * precision / (beta**2 * precision + recall)\n",
    "\n",
    "    # Collect and return results\n",
    "    results = {\n",
    "        'recall': recall,\n",
    "        'precision': precision,\n",
    "        'f1': f1_score_beta\n",
    "    }\n",
    "    return results"
   ]
  },
  {
   "cell_type": "markdown",
   "metadata": {
    "tags": []
   },
   "source": [
    "## Training Arguments"
   ]
  },
  {
   "cell_type": "code",
   "execution_count": 15,
   "metadata": {},
   "outputs": [],
   "source": [
    "# pip install tensorboard --quiet"
   ]
  },
  {
   "cell_type": "code",
   "execution_count": 16,
   "metadata": {},
   "outputs": [],
   "source": [
    "# !conda install -c huggingface accelerate -y\n"
   ]
  },
  {
   "cell_type": "code",
   "execution_count": 17,
   "metadata": {
    "id": "gpa5lHmxhEH4"
   },
   "outputs": [],
   "source": [
    "# Define training arguments\n",
    "args = TrainingArguments(\n",
    "    output_dir=OUTPUT_DIR,  # Directory where model checkpoints and logs will be saved\n",
    "    fp16=False,  # Whether to use 16-bit (mixed) precision training\n",
    "    learning_rate=2e-5,  # Initial learning rate for training\n",
    "    num_train_epochs=3,  # Number of training epochs\n",
    "    per_device_train_batch_size=1,\n",
    "    #per_device_eval_batch_size=1,\n",
    "    gradient_accumulation_steps=16,\n",
    "    #per_device_train_batch_size=4,  # Batch size per GPU/CPU for training\n",
    "    #gradient_accumulation_steps=2,  # Number of updates steps to accumulate before performing a backward/update pass\n",
    "    report_to=\"tensorboard\",  # Do not report training progress to any backend (e.g., Weights & Biases)\n",
    "    evaluation_strategy=\"no\",  # No evaluation during training\n",
    "    do_eval=False,  # Do not perform evaluation during training\n",
    "    save_total_limit=1,  # Maximum number of checkpoints to save\n",
    "    logging_steps=20,  # Log training progress every specified number of steps\n",
    "    lr_scheduler_type='cosine',  # Type of learning rate scheduler\n",
    "    metric_for_best_model=\"f1\",  # Metric used to determine the best model during training\n",
    "    greater_is_better=True,  # Whether a higher value of the chosen metric indicates a better model\n",
    "    warmup_ratio=0.1,  # Ratio of total training steps used for warmup\n",
    "    weight_decay=0.01  # Strength of weight decay regularization\n",
    ")"
   ]
  },
  {
   "cell_type": "markdown",
   "metadata": {
    "tags": []
   },
   "source": [
    "## Training the Model"
   ]
  },
  {
   "cell_type": "markdown",
   "metadata": {},
   "source": [
    "- Once you are done with the training run this for reports and run it in an ssh where the output directory is specified in the folder\n",
    "    - tensorboard --logdir=output_dir"
   ]
  },
  {
   "cell_type": "code",
   "execution_count": 18,
   "metadata": {},
   "outputs": [],
   "source": [
    "# import matplotlib.pyplot as plt\n",
    "# from transformers import Trainer, TrainingArguments\n",
    "# from functools import partial\n",
    "\n",
    "# # Initialize an empty list to store training losses\n",
    "# training_losses = []\n",
    "\n",
    "# # Define a function to track training losses\n",
    "# def compute_training_loss_callback(eval_pred):\n",
    "#     global training_losses\n",
    "#     training_losses.append(eval_pred.loss)\n",
    "\n",
    "# # Initialize the Trainer object for training\n",
    "# trainer = Trainer(\n",
    "#     model=model,  # Pre-trained model to be trained\n",
    "#     args=args,  # Training arguments\n",
    "#     train_dataset=train_mapped,  # Training dataset\n",
    "#     data_collator=collator,  # Data collator for token classification\n",
    "#     tokenizer=tokenizer,  # Tokenizer object\n",
    "#     compute_metrics=partial(compute_metrics, all_labels=all_labels),  # Partial function for computing evaluation metrics\n",
    "#     callbacks=[compute_training_loss_callback]  # Callback to track training losses\n",
    "# )\n",
    "\n",
    "# # Start training\n",
    "# trainer.train()\n",
    "\n",
    "# # Plot training losses\n",
    "# plt.plot(training_losses, label=\"Training Loss\")\n",
    "# plt.xlabel(\"Epoch\")\n",
    "# plt.ylabel(\"Loss\")\n",
    "# plt.title(\"Training Losses\")\n",
    "# plt.legend()\n",
    "# plt.show()\n"
   ]
  },
  {
   "cell_type": "code",
   "execution_count": 19,
   "metadata": {
    "colab": {
     "base_uri": "https://localhost:8080/",
     "height": 188
    },
    "id": "OA2A2q4UhGbA",
    "outputId": "4fbb06c0-ea73-4576-dfc6-6fba9ed65cca"
   },
   "outputs": [
    {
     "name": "stderr",
     "output_type": "stream",
     "text": [
      "/home/gande.vi/.conda/envs/tensorflow/lib/python3.9/site-packages/accelerate/accelerator.py:436: FutureWarning: Passing the following arguments to `Accelerator` is deprecated and will be removed in version 1.0 of Accelerate: dict_keys(['dispatch_batches']). Please pass an `accelerate.DataLoaderConfiguration` instead: \n",
      "dataloader_config = DataLoaderConfiguration(dispatch_batches=None)\n",
      "  warnings.warn(\n",
      "Detected kernel version 3.10.0, which is below the recommended minimum of 5.5.0; this can cause the process to hang. It is recommended to upgrade the kernel to the minimum version or higher.\n",
      "You're using a BertTokenizerFast tokenizer. Please note that with a fast tokenizer, using the `__call__` method is faster than using a method to encode the text followed by a call to the `pad` method to get a padded encoding.\n"
     ]
    },
    {
     "data": {
      "text/html": [
       "\n",
       "    <div>\n",
       "      \n",
       "      <progress value='1731' max='1731' style='width:300px; height:20px; vertical-align: middle;'></progress>\n",
       "      [1731/1731 43:15, Epoch 2/3]\n",
       "    </div>\n",
       "    <table border=\"1\" class=\"dataframe\">\n",
       "  <thead>\n",
       " <tr style=\"text-align: left;\">\n",
       "      <th>Step</th>\n",
       "      <th>Training Loss</th>\n",
       "    </tr>\n",
       "  </thead>\n",
       "  <tbody>\n",
       "    <tr>\n",
       "      <td>20</td>\n",
       "      <td>2.326200</td>\n",
       "    </tr>\n",
       "    <tr>\n",
       "      <td>40</td>\n",
       "      <td>1.398600</td>\n",
       "    </tr>\n",
       "    <tr>\n",
       "      <td>60</td>\n",
       "      <td>0.402200</td>\n",
       "    </tr>\n",
       "    <tr>\n",
       "      <td>80</td>\n",
       "      <td>0.183600</td>\n",
       "    </tr>\n",
       "    <tr>\n",
       "      <td>100</td>\n",
       "      <td>0.122900</td>\n",
       "    </tr>\n",
       "    <tr>\n",
       "      <td>120</td>\n",
       "      <td>0.071100</td>\n",
       "    </tr>\n",
       "    <tr>\n",
       "      <td>140</td>\n",
       "      <td>0.058500</td>\n",
       "    </tr>\n",
       "    <tr>\n",
       "      <td>160</td>\n",
       "      <td>0.042300</td>\n",
       "    </tr>\n",
       "    <tr>\n",
       "      <td>180</td>\n",
       "      <td>0.043800</td>\n",
       "    </tr>\n",
       "    <tr>\n",
       "      <td>200</td>\n",
       "      <td>0.037500</td>\n",
       "    </tr>\n",
       "    <tr>\n",
       "      <td>220</td>\n",
       "      <td>0.040500</td>\n",
       "    </tr>\n",
       "    <tr>\n",
       "      <td>240</td>\n",
       "      <td>0.028000</td>\n",
       "    </tr>\n",
       "    <tr>\n",
       "      <td>260</td>\n",
       "      <td>0.033700</td>\n",
       "    </tr>\n",
       "    <tr>\n",
       "      <td>280</td>\n",
       "      <td>0.033300</td>\n",
       "    </tr>\n",
       "    <tr>\n",
       "      <td>300</td>\n",
       "      <td>0.023700</td>\n",
       "    </tr>\n",
       "    <tr>\n",
       "      <td>320</td>\n",
       "      <td>0.031300</td>\n",
       "    </tr>\n",
       "    <tr>\n",
       "      <td>340</td>\n",
       "      <td>0.032100</td>\n",
       "    </tr>\n",
       "    <tr>\n",
       "      <td>360</td>\n",
       "      <td>0.023100</td>\n",
       "    </tr>\n",
       "    <tr>\n",
       "      <td>380</td>\n",
       "      <td>0.027600</td>\n",
       "    </tr>\n",
       "    <tr>\n",
       "      <td>400</td>\n",
       "      <td>0.023700</td>\n",
       "    </tr>\n",
       "    <tr>\n",
       "      <td>420</td>\n",
       "      <td>0.023300</td>\n",
       "    </tr>\n",
       "    <tr>\n",
       "      <td>440</td>\n",
       "      <td>0.025900</td>\n",
       "    </tr>\n",
       "    <tr>\n",
       "      <td>460</td>\n",
       "      <td>0.025400</td>\n",
       "    </tr>\n",
       "    <tr>\n",
       "      <td>480</td>\n",
       "      <td>0.026700</td>\n",
       "    </tr>\n",
       "    <tr>\n",
       "      <td>500</td>\n",
       "      <td>0.026300</td>\n",
       "    </tr>\n",
       "    <tr>\n",
       "      <td>520</td>\n",
       "      <td>0.022200</td>\n",
       "    </tr>\n",
       "    <tr>\n",
       "      <td>540</td>\n",
       "      <td>0.023700</td>\n",
       "    </tr>\n",
       "    <tr>\n",
       "      <td>560</td>\n",
       "      <td>0.021000</td>\n",
       "    </tr>\n",
       "    <tr>\n",
       "      <td>580</td>\n",
       "      <td>0.023500</td>\n",
       "    </tr>\n",
       "    <tr>\n",
       "      <td>600</td>\n",
       "      <td>0.019700</td>\n",
       "    </tr>\n",
       "    <tr>\n",
       "      <td>620</td>\n",
       "      <td>0.016600</td>\n",
       "    </tr>\n",
       "    <tr>\n",
       "      <td>640</td>\n",
       "      <td>0.019300</td>\n",
       "    </tr>\n",
       "    <tr>\n",
       "      <td>660</td>\n",
       "      <td>0.018600</td>\n",
       "    </tr>\n",
       "    <tr>\n",
       "      <td>680</td>\n",
       "      <td>0.018800</td>\n",
       "    </tr>\n",
       "    <tr>\n",
       "      <td>700</td>\n",
       "      <td>0.019800</td>\n",
       "    </tr>\n",
       "    <tr>\n",
       "      <td>720</td>\n",
       "      <td>0.018200</td>\n",
       "    </tr>\n",
       "    <tr>\n",
       "      <td>740</td>\n",
       "      <td>0.018800</td>\n",
       "    </tr>\n",
       "    <tr>\n",
       "      <td>760</td>\n",
       "      <td>0.016800</td>\n",
       "    </tr>\n",
       "    <tr>\n",
       "      <td>780</td>\n",
       "      <td>0.018500</td>\n",
       "    </tr>\n",
       "    <tr>\n",
       "      <td>800</td>\n",
       "      <td>0.018900</td>\n",
       "    </tr>\n",
       "    <tr>\n",
       "      <td>820</td>\n",
       "      <td>0.017400</td>\n",
       "    </tr>\n",
       "    <tr>\n",
       "      <td>840</td>\n",
       "      <td>0.017900</td>\n",
       "    </tr>\n",
       "    <tr>\n",
       "      <td>860</td>\n",
       "      <td>0.018300</td>\n",
       "    </tr>\n",
       "    <tr>\n",
       "      <td>880</td>\n",
       "      <td>0.017800</td>\n",
       "    </tr>\n",
       "    <tr>\n",
       "      <td>900</td>\n",
       "      <td>0.017300</td>\n",
       "    </tr>\n",
       "    <tr>\n",
       "      <td>920</td>\n",
       "      <td>0.014900</td>\n",
       "    </tr>\n",
       "    <tr>\n",
       "      <td>940</td>\n",
       "      <td>0.020700</td>\n",
       "    </tr>\n",
       "    <tr>\n",
       "      <td>960</td>\n",
       "      <td>0.018900</td>\n",
       "    </tr>\n",
       "    <tr>\n",
       "      <td>980</td>\n",
       "      <td>0.020400</td>\n",
       "    </tr>\n",
       "    <tr>\n",
       "      <td>1000</td>\n",
       "      <td>0.018800</td>\n",
       "    </tr>\n",
       "    <tr>\n",
       "      <td>1020</td>\n",
       "      <td>0.015100</td>\n",
       "    </tr>\n",
       "    <tr>\n",
       "      <td>1040</td>\n",
       "      <td>0.018400</td>\n",
       "    </tr>\n",
       "    <tr>\n",
       "      <td>1060</td>\n",
       "      <td>0.015000</td>\n",
       "    </tr>\n",
       "    <tr>\n",
       "      <td>1080</td>\n",
       "      <td>0.016200</td>\n",
       "    </tr>\n",
       "    <tr>\n",
       "      <td>1100</td>\n",
       "      <td>0.013800</td>\n",
       "    </tr>\n",
       "    <tr>\n",
       "      <td>1120</td>\n",
       "      <td>0.015700</td>\n",
       "    </tr>\n",
       "    <tr>\n",
       "      <td>1140</td>\n",
       "      <td>0.016800</td>\n",
       "    </tr>\n",
       "    <tr>\n",
       "      <td>1160</td>\n",
       "      <td>0.013200</td>\n",
       "    </tr>\n",
       "    <tr>\n",
       "      <td>1180</td>\n",
       "      <td>0.015300</td>\n",
       "    </tr>\n",
       "    <tr>\n",
       "      <td>1200</td>\n",
       "      <td>0.013600</td>\n",
       "    </tr>\n",
       "    <tr>\n",
       "      <td>1220</td>\n",
       "      <td>0.014500</td>\n",
       "    </tr>\n",
       "    <tr>\n",
       "      <td>1240</td>\n",
       "      <td>0.013000</td>\n",
       "    </tr>\n",
       "    <tr>\n",
       "      <td>1260</td>\n",
       "      <td>0.014900</td>\n",
       "    </tr>\n",
       "    <tr>\n",
       "      <td>1280</td>\n",
       "      <td>0.013700</td>\n",
       "    </tr>\n",
       "    <tr>\n",
       "      <td>1300</td>\n",
       "      <td>0.015200</td>\n",
       "    </tr>\n",
       "    <tr>\n",
       "      <td>1320</td>\n",
       "      <td>0.012300</td>\n",
       "    </tr>\n",
       "    <tr>\n",
       "      <td>1340</td>\n",
       "      <td>0.012100</td>\n",
       "    </tr>\n",
       "    <tr>\n",
       "      <td>1360</td>\n",
       "      <td>0.013600</td>\n",
       "    </tr>\n",
       "    <tr>\n",
       "      <td>1380</td>\n",
       "      <td>0.012800</td>\n",
       "    </tr>\n",
       "    <tr>\n",
       "      <td>1400</td>\n",
       "      <td>0.013600</td>\n",
       "    </tr>\n",
       "    <tr>\n",
       "      <td>1420</td>\n",
       "      <td>0.013900</td>\n",
       "    </tr>\n",
       "    <tr>\n",
       "      <td>1440</td>\n",
       "      <td>0.011800</td>\n",
       "    </tr>\n",
       "    <tr>\n",
       "      <td>1460</td>\n",
       "      <td>0.010300</td>\n",
       "    </tr>\n",
       "    <tr>\n",
       "      <td>1480</td>\n",
       "      <td>0.013100</td>\n",
       "    </tr>\n",
       "    <tr>\n",
       "      <td>1500</td>\n",
       "      <td>0.010700</td>\n",
       "    </tr>\n",
       "    <tr>\n",
       "      <td>1520</td>\n",
       "      <td>0.014300</td>\n",
       "    </tr>\n",
       "    <tr>\n",
       "      <td>1540</td>\n",
       "      <td>0.013500</td>\n",
       "    </tr>\n",
       "    <tr>\n",
       "      <td>1560</td>\n",
       "      <td>0.011200</td>\n",
       "    </tr>\n",
       "    <tr>\n",
       "      <td>1580</td>\n",
       "      <td>0.011600</td>\n",
       "    </tr>\n",
       "    <tr>\n",
       "      <td>1600</td>\n",
       "      <td>0.012600</td>\n",
       "    </tr>\n",
       "    <tr>\n",
       "      <td>1620</td>\n",
       "      <td>0.014500</td>\n",
       "    </tr>\n",
       "    <tr>\n",
       "      <td>1640</td>\n",
       "      <td>0.012600</td>\n",
       "    </tr>\n",
       "    <tr>\n",
       "      <td>1660</td>\n",
       "      <td>0.013300</td>\n",
       "    </tr>\n",
       "    <tr>\n",
       "      <td>1680</td>\n",
       "      <td>0.015100</td>\n",
       "    </tr>\n",
       "    <tr>\n",
       "      <td>1700</td>\n",
       "      <td>0.014700</td>\n",
       "    </tr>\n",
       "    <tr>\n",
       "      <td>1720</td>\n",
       "      <td>0.014600</td>\n",
       "    </tr>\n",
       "  </tbody>\n",
       "</table><p>"
      ],
      "text/plain": [
       "<IPython.core.display.HTML object>"
      ]
     },
     "metadata": {},
     "output_type": "display_data"
    },
    {
     "data": {
      "text/plain": [
       "TrainOutput(global_step=1731, training_loss=0.07039402396020553, metrics={'train_runtime': 2596.824, 'train_samples_per_second': 10.673, 'train_steps_per_second': 0.667, 'total_flos': 7237594684145664.0, 'train_loss': 0.07039402396020553, 'epoch': 3.0})"
      ]
     },
     "execution_count": 19,
     "metadata": {},
     "output_type": "execute_result"
    }
   ],
   "source": [
    "import matplotlib.pyplot as plt\n",
    "\n",
    "# Initialize the Trainer object for training\n",
    "trainer = Trainer(\n",
    "    model=model,  # Pre-trained model to be trained\n",
    "    args=args,  # Training arguments\n",
    "    train_dataset=train_mapped,  # Training dataset\n",
    "    data_collator=collator,  # Data collator for token classification\n",
    "    tokenizer=tokenizer,  # Tokenizer object\n",
    "    compute_metrics=partial(compute_metrics, all_labels=all_labels),  # Partial function for computing evaluation metrics\n",
    ")\n",
    "trainer.train()\n",
    "\n"
   ]
  },
  {
   "cell_type": "code",
   "execution_count": 22,
   "metadata": {},
   "outputs": [
    {
     "data": {
      "image/png": "[encoded data removed]",
      "text/plain": [
       "<Figure size 1000x500 with 1 Axes>"
      ]
     },
     "metadata": {},
     "output_type": "display_data"
    }
   ],
   "source": [
    "import matplotlib.pyplot as plt\n",
    "\n",
    "# Extract the loss values from trainer's training stats\n",
    "losses = [log['loss'] for log in trainer.state.log_history if 'loss' in log]\n",
    "\n",
    "# Create a range of step numbers\n",
    "steps = range(len(losses))\n",
    "\n",
    "# Create the plot\n",
    "plt.figure(figsize=(10, 5))\n",
    "plt.plot(steps, losses, label='Training Loss')\n",
    "\n",
    "# Add title and labels\n",
    "plt.title('Bert-base-NER: Training Loss over Time')\n",
    "plt.xlabel('Training Steps')\n",
    "plt.ylabel('Loss')\n",
    "\n",
    "# Show legend\n",
    "plt.legend()\n",
    "\n",
    "# Show the plot\n",
    "plt.show()\n"
   ]
  },
  {
   "cell_type": "code",
   "execution_count": 21,
   "metadata": {},
   "outputs": [
    {
     "data": {
      "text/plain": [
       "('Bert_base-NER/tokenizer_config.json',\n",
       " 'Bert_base-NER/special_tokens_map.json',\n",
       " 'Bert_base-NER/vocab.txt',\n",
       " 'Bert_base-NER/added_tokens.json',\n",
       " 'Bert_base-NER/tokenizer.json')"
      ]
     },
     "execution_count": 21,
     "metadata": {},
     "output_type": "execute_result"
    }
   ],
   "source": [
    "model.save_pretrained(\"Bert_base-NER\")\n",
    "tokenizer.save_pretrained(\"Bert_base-NER\")"
   ]
  },
  {
   "cell_type": "markdown",
   "metadata": {
    "tags": []
   },
   "source": [
    "# Generating Predictions"
   ]
  },
  {
   "cell_type": "code",
   "execution_count": 23,
   "metadata": {},
   "outputs": [
    {
     "data": {
      "text/html": [],
      "text/plain": [
       "<IPython.core.display.HTML object>"
      ]
     },
     "metadata": {},
     "output_type": "display_data"
    }
   ],
   "source": [
    "from pathlib import Path\n",
    "og_labels = test_mapped['labels']\n",
    "predictions = trainer.predict(test_mapped).predictions\n",
    "pred_softmax = np.exp(predictions) / np.sum(np.exp(predictions), axis = 2).reshape(predictions.shape[0],predictions.shape[1],1)\n",
    "model_path='bert-base-NER/checkpoint-1500'\n",
    "config = json.load(open(Path(model_path) / \"config.json\"))\n",
    "id2label = config[\"id2label\"]\n",
    "preds = predictions.argmax(-1)\n",
    "preds_without_O = pred_softmax[:,:,:12].argmax(-1)\n",
    "O_preds = pred_softmax[:,:,12]\n",
    "\n",
    "threshold = 0.9\n",
    "preds_final = np.where(O_preds < threshold, preds_without_O , preds)"
   ]
  },
  {
   "cell_type": "code",
   "execution_count": 24,
   "metadata": {},
   "outputs": [],
   "source": [
    "model_path = 'bert-base-NER/checkpoint-1500'\n",
    "model = AutoModelForTokenClassification.from_pretrained(model_path)"
   ]
  },
  {
   "cell_type": "code",
   "execution_count": 25,
   "metadata": {
    "id": "Z7a4yBwRqdR6"
   },
   "outputs": [],
   "source": [
    "# Extract relevant features from test_mapped\n",
    "input_ids = torch.tensor(test_mapped[\"input_ids\"])\n",
    "token_type_ids = torch.tensor(test_mapped[\"token_type_ids\"])\n",
    "attention_mask = torch.tensor(test_mapped[\"attention_mask\"])\n",
    "og_labels = test_mapped['labels']\n",
    "\n",
    "# Call the model with the extracted features\n",
    "outputs = model(input_ids=input_ids, token_type_ids=token_type_ids, attention_mask=attention_mask)\n",
    "\n",
    "# Now you can access the logits from the outputs\n",
    "predictions = outputs.logits\n",
    "\n",
    "# Softmax normalization\n",
    "pred_softmax = np.exp(predictions.detach().numpy()) / np.sum(np.exp(predictions.detach().numpy()), axis=2).reshape(predictions.shape[0], predictions.shape[1], 1)\n",
    "\n",
    "# Extracting predictions without 'O' label\n",
    "preds_without_O = pred_softmax[:, :, :12].argmax(-1)\n",
    "\n",
    "# Extracting 'O' predictions\n",
    "O_preds = pred_softmax[:, :, 12]\n",
    "\n",
    "# Thresholding for 'O' predictions\n",
    "threshold = 0.9\n",
    "preds_final = np.where(O_preds < threshold, preds_without_O, predictions.argmax(-1))"
   ]
  },
  {
   "cell_type": "markdown",
   "metadata": {
    "tags": []
   },
   "source": [
    "# Evaluations"
   ]
  },
  {
   "cell_type": "code",
   "execution_count": 26,
   "metadata": {
    "id": "4q2tm8wEsZCs"
   },
   "outputs": [],
   "source": [
    "df = pd.DataFrame({\n",
    "    \"og_label\": og_labels,\n",
    "    \"pred_label\": preds_final.tolist()\n",
    "})"
   ]
  },
  {
   "cell_type": "code",
   "execution_count": 27,
   "metadata": {},
   "outputs": [],
   "source": [
    "id2label = {\n",
    "    0: 'B-EMAIL',\n",
    "    1: 'B-ID_NUM',\n",
    "    2: 'B-NAME_STUDENT',\n",
    "    3: 'B-PHONE_NUM',\n",
    "    4: 'B-STREET_ADDRESS',\n",
    "    5: 'B-URL_PERSONAL',\n",
    "    6: 'B-USERNAME',\n",
    "    7: 'I-ID_NUM',\n",
    "    8: 'I-NAME_STUDENT',\n",
    "    9: 'I-PHONE_NUM',\n",
    "    10: 'I-STREET_ADDRESS',\n",
    "    11: 'I-URL_PERSONAL',\n",
    "    12: 'O'\n",
    "}"
   ]
  },
  {
   "cell_type": "code",
   "execution_count": 28,
   "metadata": {
    "colab": {
     "base_uri": "https://localhost:8080/"
    },
    "id": "2OU4BwIjsgxm",
    "outputId": "42623b29-c135-4295-d261-1bac4f88cb92"
   },
   "outputs": [
    {
     "name": "stdout",
     "output_type": "stream",
     "text": [
      "Precision: 0.9661\n",
      "Recall: 0.9616\n",
      "F1 Score: 0.9630\n"
     ]
    },
    {
     "name": "stderr",
     "output_type": "stream",
     "text": [
      "/home/gande.vi/.conda/envs/tensorflow/lib/python3.9/site-packages/sklearn/metrics/_classification.py:1469: UndefinedMetricWarning: Recall and F-score are ill-defined and being set to 0.0 in labels with no true samples. Use `zero_division` parameter to control this behavior.\n",
      "  _warn_prf(average, modifier, msg_start, len(result))\n"
     ]
    }
   ],
   "source": [
    "from sklearn.metrics import precision_recall_fscore_support\n",
    "import numpy as np\n",
    "\n",
    "# Extraction labels excluding O's\n",
    "og = df['og_label']\n",
    "pred = df['pred_label']\n",
    "o = []\n",
    "p = []\n",
    "for i in range(len(pred)):\n",
    "    for j in range(len(pred[i])):\n",
    "        if og[i][j] != 12:\n",
    "            p.append(pred[i][j])\n",
    "            o.append(og[i][j])\n",
    "o_labels = [id2label[label_id] for label_id in o]\n",
    "p_labels = [id2label[label_id] for label_id in p]\n",
    "# Calculate metrics\n",
    "precision, recall, f1, _ = precision_recall_fscore_support(o,p, average='weighted')\n",
    "\n",
    "print(f\"Precision: {precision:.4f}\")\n",
    "print(f\"Recall: {recall:.4f}\")\n",
    "print(f\"F1 Score: {f1:.4f}\")"
   ]
  },
  {
   "cell_type": "code",
   "execution_count": 29,
   "metadata": {},
   "outputs": [
    {
     "name": "stdout",
     "output_type": "stream",
     "text": [
      "              precision    recall  f1-score   support\n",
      "\n",
      "           0       0.96      0.98      0.97       661\n",
      "           1       0.99      0.97      0.98       181\n",
      "           2       1.00      0.99      0.99       428\n",
      "           3       0.97      0.91      0.94       182\n",
      "           4       0.93      0.81      0.87       105\n",
      "           5       0.99      0.98      0.98       450\n",
      "           6       0.99      0.91      0.94       179\n",
      "           7       1.00      0.73      0.85        45\n",
      "           8       0.99      0.98      0.98       164\n",
      "           9       0.89      0.98      0.93       306\n",
      "          10       0.96      0.98      0.97       374\n",
      "\n",
      "   micro avg       0.97      0.96      0.96      3075\n",
      "   macro avg       0.97      0.93      0.95      3075\n",
      "weighted avg       0.97      0.96      0.96      3075\n",
      "\n"
     ]
    }
   ],
   "source": [
    "from sklearn.metrics import classification_report, precision_recall_fscore_support,confusion_matrix\n",
    "\n",
    "# Assuming o contains your true labels, and p contains your predicted labels\n",
    "labels = sorted(list(set(o)))  # Extract the unique labels present in your true labels\n",
    "\n",
    "# Option 1: Classification Report\n",
    "report = classification_report(o, p, labels=labels)\n",
    "print(report)\n",
    "\n",
    "# Option 2: Precision, Recall, F-score, and Support for each label\n",
    "precision, recall, fscore, support = precision_recall_fscore_support(o, p, labels=labels)\n",
    "\n",
    "# # If you want to see metrics for a specific label, e.g., label 1\n",
    "# for i in range(0,11):\n",
    "#     label_index = labels.index(i)  # Assuming '1' is a label and you want its index\n",
    "#     print(f\"Label {i} - Precision: {precision[label_index]}, Recall: {recall[label_index]}, F1-Score: {fscore[label_index]}\")\n",
    "#     print(\"_______________________________________________________________________________________________________________\")"
   ]
  },
  {
   "cell_type": "code",
   "execution_count": 30,
   "metadata": {},
   "outputs": [
    {
     "data": {
      "image/png": "[encoded data removed]",
      "text/plain": [
       "<Figure size 1000x700 with 2 Axes>"
      ]
     },
     "metadata": {},
     "output_type": "display_data"
    }
   ],
   "source": [
    "import seaborn as sns\n",
    "# Assuming 'o' is your list of true labels and 'p' is your list of predicted labels\n",
    "labels = sorted(list(set(o_labels + p_labels)))  # Get all unique labels from true and predicted labels combined\n",
    "\n",
    "# Calculate confusion matrix\n",
    "cm = confusion_matrix(o_labels, p_labels, labels=labels)\n",
    "\n",
    "# Visualize the confusion matrix\n",
    "plt.figure(figsize=(10, 7))\n",
    "sns.heatmap(cm, annot=True, fmt='d', cmap='Blues', xticklabels=labels, yticklabels=labels)\n",
    "plt.title('Confusion Matrix')\n",
    "plt.xlabel('Predicted Labels')\n",
    "plt.ylabel('True Labels')\n",
    "plt.show()"
   ]
  },
  {
   "cell_type": "code",
   "execution_count": null,
   "metadata": {},
   "outputs": [],
   "source": []
  }
 ],
 "metadata": {
  "colab": {
   "machine_shape": "hm",
   "provenance": []
  },
  "kernelspec": {
   "display_name": "Python 3 (ipykernel)",
   "language": "python",
   "name": "python3"
  },
  "language_info": {
   "codemirror_mode": {
    "name": "ipython",
    "version": 3
   },
   "file_extension": ".py",
   "mimetype": "text/x-python",
   "name": "python",
   "nbconvert_exporter": "python",
   "pygments_lexer": "ipython3",
   "version": "3.9.18"
  },
  "widgets": {
   "application/vnd.jupyter.widget-state+json": {
    "04c019927b78499497006a2f8b5426d7": {
     "model_module": "@jupyter-widgets/controls",
     "model_module_version": "1.5.0",
     "model_name": "HTMLModel",
     "state": {
      "_dom_classes": [],
      "_model_module": "@jupyter-widgets/controls",
      "_model_module_version": "1.5.0",
      "_model_name": "HTMLModel",
      "_view_count": null,
      "_view_module": "@jupyter-widgets/controls",
      "_view_module_version": "1.5.0",
      "_view_name": "HTMLView",
      "description": "",
      "description_tooltip": null,
      "layout": "IPY_MODEL_8f91266886a54ea68d4220d620fe539c",
      "placeholder": "​",
      "style": "IPY_MODEL_60f4686a0a0f47d9b58158b74d949a17",
      "value": " 1/1 [00:00&lt;00:00, 30.77 examples/s]"
     }
    },
    "16b64ee9434247a4b850553a24a9c88d": {
     "model_module": "@jupyter-widgets/controls",
     "model_module_version": "1.5.0",
     "model_name": "ProgressStyleModel",
     "state": {
      "_model_module": "@jupyter-widgets/controls",
      "_model_module_version": "1.5.0",
      "_model_name": "ProgressStyleModel",
      "_view_count": null,
      "_view_module": "@jupyter-widgets/base",
      "_view_module_version": "1.2.0",
      "_view_name": "StyleView",
      "bar_color": null,
      "description_width": ""
     }
    },
    "248a3000d69049e29bc532252ed6bbf9": {
     "model_module": "@jupyter-widgets/controls",
     "model_module_version": "1.5.0",
     "model_name": "DescriptionStyleModel",
     "state": {
      "_model_module": "@jupyter-widgets/controls",
      "_model_module_version": "1.5.0",
      "_model_name": "DescriptionStyleModel",
      "_view_count": null,
      "_view_module": "@jupyter-widgets/base",
      "_view_module_version": "1.2.0",
      "_view_name": "StyleView",
      "description_width": ""
     }
    },
    "272915da244640afb123cc454c7a8ab1": {
     "model_module": "@jupyter-widgets/base",
     "model_module_version": "1.2.0",
     "model_name": "LayoutModel",
     "state": {
      "_model_module": "@jupyter-widgets/base",
      "_model_module_version": "1.2.0",
      "_model_name": "LayoutModel",
      "_view_count": null,
      "_view_module": "@jupyter-widgets/base",
      "_view_module_version": "1.2.0",
      "_view_name": "LayoutView",
      "align_content": null,
      "align_items": null,
      "align_self": null,
      "border": null,
      "bottom": null,
      "display": null,
      "flex": null,
      "flex_flow": null,
      "grid_area": null,
      "grid_auto_columns": null,
      "grid_auto_flow": null,
      "grid_auto_rows": null,
      "grid_column": null,
      "grid_gap": null,
      "grid_row": null,
      "grid_template_areas": null,
      "grid_template_columns": null,
      "grid_template_rows": null,
      "height": null,
      "justify_content": null,
      "justify_items": null,
      "left": null,
      "margin": null,
      "max_height": null,
      "max_width": null,
      "min_height": null,
      "min_width": null,
      "object_fit": null,
      "object_position": null,
      "order": null,
      "overflow": null,
      "overflow_x": null,
      "overflow_y": null,
      "padding": null,
      "right": null,
      "top": null,
      "visibility": null,
      "width": null
     }
    },
    "27f842dc52214321af8cfd0d10ae21c6": {
     "model_module": "@jupyter-widgets/controls",
     "model_module_version": "1.5.0",
     "model_name": "HTMLModel",
     "state": {
      "_dom_classes": [],
      "_model_module": "@jupyter-widgets/controls",
      "_model_module_version": "1.5.0",
      "_model_name": "HTMLModel",
      "_view_count": null,
      "_view_module": "@jupyter-widgets/controls",
      "_view_module_version": "1.5.0",
      "_view_name": "HTMLView",
      "description": "",
      "description_tooltip": null,
      "layout": "IPY_MODEL_272915da244640afb123cc454c7a8ab1",
      "placeholder": "​",
      "style": "IPY_MODEL_c1fcef3e5ad4432c8d7f3ba55effce0f",
      "value": "Map: 100%"
     }
    },
    "2b7f1a46c06f49d4831d8b5b393f7d18": {
     "model_module": "@jupyter-widgets/controls",
     "model_module_version": "1.5.0",
     "model_name": "HBoxModel",
     "state": {
      "_dom_classes": [],
      "_model_module": "@jupyter-widgets/controls",
      "_model_module_version": "1.5.0",
      "_model_name": "HBoxModel",
      "_view_count": null,
      "_view_module": "@jupyter-widgets/controls",
      "_view_module_version": "1.5.0",
      "_view_name": "HBoxView",
      "box_style": "",
      "children": [
       "IPY_MODEL_551353e468e14627a898b177f1c89885",
       "IPY_MODEL_2be436ce8af8419190edf91105229cd4",
       "IPY_MODEL_8cecc5e68aa448eb9a562dd7825d0be1"
      ],
      "layout": "IPY_MODEL_8cdaeea14fc749afbec902aa8a3686f8"
     }
    },
    "2be436ce8af8419190edf91105229cd4": {
     "model_module": "@jupyter-widgets/controls",
     "model_module_version": "1.5.0",
     "model_name": "FloatProgressModel",
     "state": {
      "_dom_classes": [],
      "_model_module": "@jupyter-widgets/controls",
      "_model_module_version": "1.5.0",
      "_model_name": "FloatProgressModel",
      "_view_count": null,
      "_view_module": "@jupyter-widgets/controls",
      "_view_module_version": "1.5.0",
      "_view_name": "ProgressView",
      "bar_style": "success",
      "description": "",
      "description_tooltip": null,
      "layout": "IPY_MODEL_9daf5722e9aa4cf4a71d1d688ed535a5",
      "max": 1,
      "min": 0,
      "orientation": "horizontal",
      "style": "IPY_MODEL_16b64ee9434247a4b850553a24a9c88d",
      "value": 1
     }
    },
    "35ed0a4f066745199a76dc087a314e93": {
     "model_module": "@jupyter-widgets/base",
     "model_module_version": "1.2.0",
     "model_name": "LayoutModel",
     "state": {
      "_model_module": "@jupyter-widgets/base",
      "_model_module_version": "1.2.0",
      "_model_name": "LayoutModel",
      "_view_count": null,
      "_view_module": "@jupyter-widgets/base",
      "_view_module_version": "1.2.0",
      "_view_name": "LayoutView",
      "align_content": null,
      "align_items": null,
      "align_self": null,
      "border": null,
      "bottom": null,
      "display": null,
      "flex": null,
      "flex_flow": null,
      "grid_area": null,
      "grid_auto_columns": null,
      "grid_auto_flow": null,
      "grid_auto_rows": null,
      "grid_column": null,
      "grid_gap": null,
      "grid_row": null,
      "grid_template_areas": null,
      "grid_template_columns": null,
      "grid_template_rows": null,
      "height": null,
      "justify_content": null,
      "justify_items": null,
      "left": null,
      "margin": null,
      "max_height": null,
      "max_width": null,
      "min_height": null,
      "min_width": null,
      "object_fit": null,
      "object_position": null,
      "order": null,
      "overflow": null,
      "overflow_x": null,
      "overflow_y": null,
      "padding": null,
      "right": null,
      "top": null,
      "visibility": null,
      "width": null
     }
    },
    "551353e468e14627a898b177f1c89885": {
     "model_module": "@jupyter-widgets/controls",
     "model_module_version": "1.5.0",
     "model_name": "HTMLModel",
     "state": {
      "_dom_classes": [],
      "_model_module": "@jupyter-widgets/controls",
      "_model_module_version": "1.5.0",
      "_model_name": "HTMLModel",
      "_view_count": null,
      "_view_module": "@jupyter-widgets/controls",
      "_view_module_version": "1.5.0",
      "_view_name": "HTMLView",
      "description": "",
      "description_tooltip": null,
      "layout": "IPY_MODEL_ffff59409b664644a3611d7146479d0d",
      "placeholder": "​",
      "style": "IPY_MODEL_a811af887491451aa74f8ec136e2a2c2",
      "value": "Map: 100%"
     }
    },
    "60f4686a0a0f47d9b58158b74d949a17": {
     "model_module": "@jupyter-widgets/controls",
     "model_module_version": "1.5.0",
     "model_name": "DescriptionStyleModel",
     "state": {
      "_model_module": "@jupyter-widgets/controls",
      "_model_module_version": "1.5.0",
      "_model_name": "DescriptionStyleModel",
      "_view_count": null,
      "_view_module": "@jupyter-widgets/base",
      "_view_module_version": "1.2.0",
      "_view_name": "StyleView",
      "description_width": ""
     }
    },
    "8cdaeea14fc749afbec902aa8a3686f8": {
     "model_module": "@jupyter-widgets/base",
     "model_module_version": "1.2.0",
     "model_name": "LayoutModel",
     "state": {
      "_model_module": "@jupyter-widgets/base",
      "_model_module_version": "1.2.0",
      "_model_name": "LayoutModel",
      "_view_count": null,
      "_view_module": "@jupyter-widgets/base",
      "_view_module_version": "1.2.0",
      "_view_name": "LayoutView",
      "align_content": null,
      "align_items": null,
      "align_self": null,
      "border": null,
      "bottom": null,
      "display": null,
      "flex": null,
      "flex_flow": null,
      "grid_area": null,
      "grid_auto_columns": null,
      "grid_auto_flow": null,
      "grid_auto_rows": null,
      "grid_column": null,
      "grid_gap": null,
      "grid_row": null,
      "grid_template_areas": null,
      "grid_template_columns": null,
      "grid_template_rows": null,
      "height": null,
      "justify_content": null,
      "justify_items": null,
      "left": null,
      "margin": null,
      "max_height": null,
      "max_width": null,
      "min_height": null,
      "min_width": null,
      "object_fit": null,
      "object_position": null,
      "order": null,
      "overflow": null,
      "overflow_x": null,
      "overflow_y": null,
      "padding": null,
      "right": null,
      "top": null,
      "visibility": null,
      "width": null
     }
    },
    "8cecc5e68aa448eb9a562dd7825d0be1": {
     "model_module": "@jupyter-widgets/controls",
     "model_module_version": "1.5.0",
     "model_name": "HTMLModel",
     "state": {
      "_dom_classes": [],
      "_model_module": "@jupyter-widgets/controls",
      "_model_module_version": "1.5.0",
      "_model_name": "HTMLModel",
      "_view_count": null,
      "_view_module": "@jupyter-widgets/controls",
      "_view_module_version": "1.5.0",
      "_view_name": "HTMLView",
      "description": "",
      "description_tooltip": null,
      "layout": "IPY_MODEL_35ed0a4f066745199a76dc087a314e93",
      "placeholder": "​",
      "style": "IPY_MODEL_248a3000d69049e29bc532252ed6bbf9",
      "value": " 1/1 [00:00&lt;00:00, 30.92 examples/s]"
     }
    },
    "8f91266886a54ea68d4220d620fe539c": {
     "model_module": "@jupyter-widgets/base",
     "model_module_version": "1.2.0",
     "model_name": "LayoutModel",
     "state": {
      "_model_module": "@jupyter-widgets/base",
      "_model_module_version": "1.2.0",
      "_model_name": "LayoutModel",
      "_view_count": null,
      "_view_module": "@jupyter-widgets/base",
      "_view_module_version": "1.2.0",
      "_view_name": "LayoutView",
      "align_content": null,
      "align_items": null,
      "align_self": null,
      "border": null,
      "bottom": null,
      "display": null,
      "flex": null,
      "flex_flow": null,
      "grid_area": null,
      "grid_auto_columns": null,
      "grid_auto_flow": null,
      "grid_auto_rows": null,
      "grid_column": null,
      "grid_gap": null,
      "grid_row": null,
      "grid_template_areas": null,
      "grid_template_columns": null,
      "grid_template_rows": null,
      "height": null,
      "justify_content": null,
      "justify_items": null,
      "left": null,
      "margin": null,
      "max_height": null,
      "max_width": null,
      "min_height": null,
      "min_width": null,
      "object_fit": null,
      "object_position": null,
      "order": null,
      "overflow": null,
      "overflow_x": null,
      "overflow_y": null,
      "padding": null,
      "right": null,
      "top": null,
      "visibility": null,
      "width": null
     }
    },
    "9daf5722e9aa4cf4a71d1d688ed535a5": {
     "model_module": "@jupyter-widgets/base",
     "model_module_version": "1.2.0",
     "model_name": "LayoutModel",
     "state": {
      "_model_module": "@jupyter-widgets/base",
      "_model_module_version": "1.2.0",
      "_model_name": "LayoutModel",
      "_view_count": null,
      "_view_module": "@jupyter-widgets/base",
      "_view_module_version": "1.2.0",
      "_view_name": "LayoutView",
      "align_content": null,
      "align_items": null,
      "align_self": null,
      "border": null,
      "bottom": null,
      "display": null,
      "flex": null,
      "flex_flow": null,
      "grid_area": null,
      "grid_auto_columns": null,
      "grid_auto_flow": null,
      "grid_auto_rows": null,
      "grid_column": null,
      "grid_gap": null,
      "grid_row": null,
      "grid_template_areas": null,
      "grid_template_columns": null,
      "grid_template_rows": null,
      "height": null,
      "justify_content": null,
      "justify_items": null,
      "left": null,
      "margin": null,
      "max_height": null,
      "max_width": null,
      "min_height": null,
      "min_width": null,
      "object_fit": null,
      "object_position": null,
      "order": null,
      "overflow": null,
      "overflow_x": null,
      "overflow_y": null,
      "padding": null,
      "right": null,
      "top": null,
      "visibility": null,
      "width": null
     }
    },
    "a77a878f3854408c976992bfef7b66ca": {
     "model_module": "@jupyter-widgets/base",
     "model_module_version": "1.2.0",
     "model_name": "LayoutModel",
     "state": {
      "_model_module": "@jupyter-widgets/base",
      "_model_module_version": "1.2.0",
      "_model_name": "LayoutModel",
      "_view_count": null,
      "_view_module": "@jupyter-widgets/base",
      "_view_module_version": "1.2.0",
      "_view_name": "LayoutView",
      "align_content": null,
      "align_items": null,
      "align_self": null,
      "border": null,
      "bottom": null,
      "display": null,
      "flex": null,
      "flex_flow": null,
      "grid_area": null,
      "grid_auto_columns": null,
      "grid_auto_flow": null,
      "grid_auto_rows": null,
      "grid_column": null,
      "grid_gap": null,
      "grid_row": null,
      "grid_template_areas": null,
      "grid_template_columns": null,
      "grid_template_rows": null,
      "height": null,
      "justify_content": null,
      "justify_items": null,
      "left": null,
      "margin": null,
      "max_height": null,
      "max_width": null,
      "min_height": null,
      "min_width": null,
      "object_fit": null,
      "object_position": null,
      "order": null,
      "overflow": null,
      "overflow_x": null,
      "overflow_y": null,
      "padding": null,
      "right": null,
      "top": null,
      "visibility": null,
      "width": null
     }
    },
    "a811af887491451aa74f8ec136e2a2c2": {
     "model_module": "@jupyter-widgets/controls",
     "model_module_version": "1.5.0",
     "model_name": "DescriptionStyleModel",
     "state": {
      "_model_module": "@jupyter-widgets/controls",
      "_model_module_version": "1.5.0",
      "_model_name": "DescriptionStyleModel",
      "_view_count": null,
      "_view_module": "@jupyter-widgets/base",
      "_view_module_version": "1.2.0",
      "_view_name": "StyleView",
      "description_width": ""
     }
    },
    "c1fcef3e5ad4432c8d7f3ba55effce0f": {
     "model_module": "@jupyter-widgets/controls",
     "model_module_version": "1.5.0",
     "model_name": "DescriptionStyleModel",
     "state": {
      "_model_module": "@jupyter-widgets/controls",
      "_model_module_version": "1.5.0",
      "_model_name": "DescriptionStyleModel",
      "_view_count": null,
      "_view_module": "@jupyter-widgets/base",
      "_view_module_version": "1.2.0",
      "_view_name": "StyleView",
      "description_width": ""
     }
    },
    "c24d552b6b7e454a98ade864dfbe7097": {
     "model_module": "@jupyter-widgets/base",
     "model_module_version": "1.2.0",
     "model_name": "LayoutModel",
     "state": {
      "_model_module": "@jupyter-widgets/base",
      "_model_module_version": "1.2.0",
      "_model_name": "LayoutModel",
      "_view_count": null,
      "_view_module": "@jupyter-widgets/base",
      "_view_module_version": "1.2.0",
      "_view_name": "LayoutView",
      "align_content": null,
      "align_items": null,
      "align_self": null,
      "border": null,
      "bottom": null,
      "display": null,
      "flex": null,
      "flex_flow": null,
      "grid_area": null,
      "grid_auto_columns": null,
      "grid_auto_flow": null,
      "grid_auto_rows": null,
      "grid_column": null,
      "grid_gap": null,
      "grid_row": null,
      "grid_template_areas": null,
      "grid_template_columns": null,
      "grid_template_rows": null,
      "height": null,
      "justify_content": null,
      "justify_items": null,
      "left": null,
      "margin": null,
      "max_height": null,
      "max_width": null,
      "min_height": null,
      "min_width": null,
      "object_fit": null,
      "object_position": null,
      "order": null,
      "overflow": null,
      "overflow_x": null,
      "overflow_y": null,
      "padding": null,
      "right": null,
      "top": null,
      "visibility": null,
      "width": null
     }
    },
    "c68dfd81f6f143818b68ebaa76f13720": {
     "model_module": "@jupyter-widgets/controls",
     "model_module_version": "1.5.0",
     "model_name": "HBoxModel",
     "state": {
      "_dom_classes": [],
      "_model_module": "@jupyter-widgets/controls",
      "_model_module_version": "1.5.0",
      "_model_name": "HBoxModel",
      "_view_count": null,
      "_view_module": "@jupyter-widgets/controls",
      "_view_module_version": "1.5.0",
      "_view_name": "HBoxView",
      "box_style": "",
      "children": [
       "IPY_MODEL_27f842dc52214321af8cfd0d10ae21c6",
       "IPY_MODEL_ff90a02cb18946b598ae4f26a4365c02",
       "IPY_MODEL_04c019927b78499497006a2f8b5426d7"
      ],
      "layout": "IPY_MODEL_c24d552b6b7e454a98ade864dfbe7097"
     }
    },
    "cfe12ae140dc4177b6e5b3ed3f941e3c": {
     "model_module": "@jupyter-widgets/controls",
     "model_module_version": "1.5.0",
     "model_name": "ProgressStyleModel",
     "state": {
      "_model_module": "@jupyter-widgets/controls",
      "_model_module_version": "1.5.0",
      "_model_name": "ProgressStyleModel",
      "_view_count": null,
      "_view_module": "@jupyter-widgets/base",
      "_view_module_version": "1.2.0",
      "_view_name": "StyleView",
      "bar_color": null,
      "description_width": ""
     }
    },
    "ff90a02cb18946b598ae4f26a4365c02": {
     "model_module": "@jupyter-widgets/controls",
     "model_module_version": "1.5.0",
     "model_name": "FloatProgressModel",
     "state": {
      "_dom_classes": [],
      "_model_module": "@jupyter-widgets/controls",
      "_model_module_version": "1.5.0",
      "_model_name": "FloatProgressModel",
      "_view_count": null,
      "_view_module": "@jupyter-widgets/controls",
      "_view_module_version": "1.5.0",
      "_view_name": "ProgressView",
      "bar_style": "success",
      "description": "",
      "description_tooltip": null,
      "layout": "IPY_MODEL_a77a878f3854408c976992bfef7b66ca",
      "max": 1,
      "min": 0,
      "orientation": "horizontal",
      "style": "IPY_MODEL_cfe12ae140dc4177b6e5b3ed3f941e3c",
      "value": 1
     }
    },
    "ffff59409b664644a3611d7146479d0d": {
     "model_module": "@jupyter-widgets/base",
     "model_module_version": "1.2.0",
     "model_name": "LayoutModel",
     "state": {
      "_model_module": "@jupyter-widgets/base",
      "_model_module_version": "1.2.0",
      "_model_name": "LayoutModel",
      "_view_count": null,
      "_view_module": "@jupyter-widgets/base",
      "_view_module_version": "1.2.0",
      "_view_name": "LayoutView",
      "align_content": null,
      "align_items": null,
      "align_self": null,
      "border": null,
      "bottom": null,
      "display": null,
      "flex": null,
      "flex_flow": null,
      "grid_area": null,
      "grid_auto_columns": null,
      "grid_auto_flow": null,
      "grid_auto_rows": null,
      "grid_column": null,
      "grid_gap": null,
      "grid_row": null,
      "grid_template_areas": null,
      "grid_template_columns": null,
      "grid_template_rows": null,
      "height": null,
      "justify_content": null,
      "justify_items": null,
      "left": null,
      "margin": null,
      "max_height": null,
      "max_width": null,
      "min_height": null,
      "min_width": null,
      "object_fit": null,
      "object_position": null,
      "order": null,
      "overflow": null,
      "overflow_x": null,
      "overflow_y": null,
      "padding": null,
      "right": null,
      "top": null,
      "visibility": null,
      "width": null
     }
    }
   }
  }
 },
 "nbformat": 4,
 "nbformat_minor": 4
}
